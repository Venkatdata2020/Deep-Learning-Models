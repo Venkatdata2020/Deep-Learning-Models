{
  "nbformat": 4,
  "nbformat_minor": 0,
  "metadata": {
    "colab": {
      "name": "Implementation of stochastic and batch grandient descent in python.ipynb",
      "provenance": []
    },
    "kernelspec": {
      "name": "python3",
      "display_name": "Python 3"
    }
  },
  "cells": [
    {
      "cell_type": "code",
      "metadata": {
        "id": "_3m9NG7LB_DN"
      },
      "source": [
        "import pandas as pd\r\n",
        "import numpy as np\r\n",
        "from matplotlib import pyplot as plt\r\n",
        "%matplotlib inline"
      ],
      "execution_count": 1,
      "outputs": []
    },
    {
      "cell_type": "code",
      "metadata": {
        "colab": {
          "base_uri": "https://localhost:8080/",
          "height": 202
        },
        "id": "_NnanbKDDWL8",
        "outputId": "3f0b7b8b-6499-493c-c671-3c159533030c"
      },
      "source": [
        "df = pd.read_csv(\"https://raw.githubusercontent.com/codebasics/py/master/DeepLearningML/8_sgd_vs_gd/homeprices_banglore.csv\")\r\n",
        "df.sample(5)\r\n",
        "#print(df.shape)"
      ],
      "execution_count": 6,
      "outputs": [
        {
          "output_type": "execute_result",
          "data": {
            "text/html": [
              "<div>\n",
              "<style scoped>\n",
              "    .dataframe tbody tr th:only-of-type {\n",
              "        vertical-align: middle;\n",
              "    }\n",
              "\n",
              "    .dataframe tbody tr th {\n",
              "        vertical-align: top;\n",
              "    }\n",
              "\n",
              "    .dataframe thead th {\n",
              "        text-align: right;\n",
              "    }\n",
              "</style>\n",
              "<table border=\"1\" class=\"dataframe\">\n",
              "  <thead>\n",
              "    <tr style=\"text-align: right;\">\n",
              "      <th></th>\n",
              "      <th>area</th>\n",
              "      <th>bedrooms</th>\n",
              "      <th>price</th>\n",
              "    </tr>\n",
              "  </thead>\n",
              "  <tbody>\n",
              "    <tr>\n",
              "      <th>0</th>\n",
              "      <td>1056</td>\n",
              "      <td>2</td>\n",
              "      <td>39.07</td>\n",
              "    </tr>\n",
              "    <tr>\n",
              "      <th>13</th>\n",
              "      <td>1100</td>\n",
              "      <td>2</td>\n",
              "      <td>40.00</td>\n",
              "    </tr>\n",
              "    <tr>\n",
              "      <th>17</th>\n",
              "      <td>1540</td>\n",
              "      <td>3</td>\n",
              "      <td>60.00</td>\n",
              "    </tr>\n",
              "    <tr>\n",
              "      <th>9</th>\n",
              "      <td>3700</td>\n",
              "      <td>5</td>\n",
              "      <td>167.00</td>\n",
              "    </tr>\n",
              "    <tr>\n",
              "      <th>14</th>\n",
              "      <td>2250</td>\n",
              "      <td>3</td>\n",
              "      <td>101.00</td>\n",
              "    </tr>\n",
              "  </tbody>\n",
              "</table>\n",
              "</div>"
            ],
            "text/plain": [
              "    area  bedrooms   price\n",
              "0   1056         2   39.07\n",
              "13  1100         2   40.00\n",
              "17  1540         3   60.00\n",
              "9   3700         5  167.00\n",
              "14  2250         3  101.00"
            ]
          },
          "metadata": {
            "tags": []
          },
          "execution_count": 6
        }
      ]
    },
    {
      "cell_type": "code",
      "metadata": {
        "colab": {
          "base_uri": "https://localhost:8080/"
        },
        "id": "aPRu4TTJDfQK",
        "outputId": "b7808bba-dc72-45d3-ce00-f721c63534a3"
      },
      "source": [
        "from sklearn import preprocessing\r\n",
        "sx = preprocessing.MinMaxScaler()\r\n",
        "sy = preprocessing.MinMaxScaler()\r\n",
        "\r\n",
        "scaled_X = sx.fit_transform(df.drop('price',axis='columns'))\r\n",
        "scaled_y = sy.fit_transform(df['price'].values.reshape(df.shape[0],1))\r\n",
        "\r\n",
        "scaled_X"
      ],
      "execution_count": 3,
      "outputs": [
        {
          "output_type": "execute_result",
          "data": {
            "text/plain": [
              "array([[0.08827586, 0.25      ],\n",
              "       [0.62068966, 0.75      ],\n",
              "       [0.22068966, 0.5       ],\n",
              "       [0.24862069, 0.5       ],\n",
              "       [0.13793103, 0.25      ],\n",
              "       [0.12758621, 0.25      ],\n",
              "       [0.6662069 , 0.75      ],\n",
              "       [0.86206897, 0.75      ],\n",
              "       [0.17586207, 0.5       ],\n",
              "       [1.        , 1.        ],\n",
              "       [0.34482759, 0.5       ],\n",
              "       [0.68448276, 0.75      ],\n",
              "       [0.06896552, 0.25      ],\n",
              "       [0.10344828, 0.25      ],\n",
              "       [0.5       , 0.5       ],\n",
              "       [0.12931034, 0.25      ],\n",
              "       [0.13103448, 0.5       ],\n",
              "       [0.25517241, 0.5       ],\n",
              "       [0.67931034, 0.5       ],\n",
              "       [0.        , 0.        ]])"
            ]
          },
          "metadata": {
            "tags": []
          },
          "execution_count": 3
        }
      ]
    },
    {
      "cell_type": "code",
      "metadata": {
        "colab": {
          "base_uri": "https://localhost:8080/"
        },
        "id": "Y0zvo1flEpbr",
        "outputId": "e8a119e4-7d43-4fc9-9ad0-8699b11fdedf"
      },
      "source": [
        "scaled_y"
      ],
      "execution_count": 4,
      "outputs": [
        {
          "output_type": "execute_result",
          "data": {
            "text/plain": [
              "array([[0.05237037],\n",
              "       [0.65185185],\n",
              "       [0.22222222],\n",
              "       [0.31851852],\n",
              "       [0.14074074],\n",
              "       [0.04444444],\n",
              "       [0.76296296],\n",
              "       [0.91111111],\n",
              "       [0.13333333],\n",
              "       [1.        ],\n",
              "       [0.37037037],\n",
              "       [0.8       ],\n",
              "       [0.04444444],\n",
              "       [0.05925926],\n",
              "       [0.51111111],\n",
              "       [0.07407407],\n",
              "       [0.11851852],\n",
              "       [0.20740741],\n",
              "       [0.51851852],\n",
              "       [0.        ]])"
            ]
          },
          "metadata": {
            "tags": []
          },
          "execution_count": 4
        }
      ]
    },
    {
      "cell_type": "code",
      "metadata": {
        "colab": {
          "base_uri": "https://localhost:8080/"
        },
        "id": "eSPR1riME0io",
        "outputId": "f8a4441a-1760-4a98-9690-f59638d4e414"
      },
      "source": [
        "def batch_gradient_descent(X, y_true, epochs, learning_rate = 0.01):\r\n",
        "\r\n",
        "    number_of_features = X.shape[1]\r\n",
        "    # numpy array with 1 row and columns equal to number of features. In \r\n",
        "    # our case number_of_features = 2 (area, bedroom)\r\n",
        "    w = np.ones(shape=(number_of_features)) \r\n",
        "    b = 0\r\n",
        "    total_samples = X.shape[0] # number of rows in X\r\n",
        "    \r\n",
        "    cost_list = []\r\n",
        "    epoch_list = []\r\n",
        "    \r\n",
        "    for i in range(epochs):        \r\n",
        "        y_predicted = np.dot(w, X.T) + b\r\n",
        "\r\n",
        "        w_grad = -(2/total_samples)*(X.T.dot(y_true-y_predicted))\r\n",
        "        b_grad = -(2/total_samples)*np.sum(y_true-y_predicted)\r\n",
        "        \r\n",
        "        w = w - learning_rate * w_grad\r\n",
        "        b = b - learning_rate * b_grad\r\n",
        "        \r\n",
        "        cost = np.mean(np.square(y_true-y_predicted)) # MSE (Mean Squared Error)\r\n",
        "        \r\n",
        "        if i%10==0:\r\n",
        "            cost_list.append(cost)\r\n",
        "            epoch_list.append(i)\r\n",
        "        \r\n",
        "    return w, b, cost, cost_list, epoch_list\r\n",
        "\r\n",
        "w, b, cost, cost_list, epoch_list = batch_gradient_descent(scaled_X,scaled_y.reshape(scaled_y.shape[0],),500)\r\n",
        "w, b, cost"
      ],
      "execution_count": 7,
      "outputs": [
        {
          "output_type": "execute_result",
          "data": {
            "text/plain": [
              "(array([0.70712464, 0.67456527]), -0.23034857438407427, 0.0068641890429808105)"
            ]
          },
          "metadata": {
            "tags": []
          },
          "execution_count": 7
        }
      ]
    },
    {
      "cell_type": "code",
      "metadata": {
        "colab": {
          "base_uri": "https://localhost:8080/",
          "height": 297
        },
        "id": "iV2RqH_2GI0t",
        "outputId": "2de1c199-9bf5-4628-e418-41b346a8befc"
      },
      "source": [
        "plt.xlabel(\"epoch\")\r\n",
        "plt.ylabel(\"cost\")\r\n",
        "plt.plot(epoch_list,cost_list)"
      ],
      "execution_count": 8,
      "outputs": [
        {
          "output_type": "execute_result",
          "data": {
            "text/plain": [
              "[<matplotlib.lines.Line2D at 0x7fc8788bc5f8>]"
            ]
          },
          "metadata": {
            "tags": []
          },
          "execution_count": 8
        },
        {
          "output_type": "display_data",
          "data": {
            "image/png": "[encoded data removed]",
            "text/plain": [
              "<Figure size 432x288 with 1 Axes>"
            ]
          },
          "metadata": {
            "tags": [],
            "needs_background": "light"
          }
        }
      ]
    },
    {
      "cell_type": "code",
      "metadata": {
        "colab": {
          "base_uri": "https://localhost:8080/"
        },
        "id": "yXQ2_gtwGVv2",
        "outputId": "e5785698-7978-4d12-8334-984da8e61a21"
      },
      "source": [
        "def predict(area,bedrooms,w,b):\r\n",
        "    scaled_X = sx.transform([[area, bedrooms]])[0]\r\n",
        "    # here w1 = w[0] , w2 = w[1], w3 = w[2] and bias is b\r\n",
        "    # equation for price is w1*area + w2*bedrooms + w3*age + bias\r\n",
        "    # scaled_X[0] is area\r\n",
        "    # scaled_X[1] is bedrooms\r\n",
        "    # scaled_X[2] is age\r\n",
        "    scaled_price = w[0] * scaled_X[0] + w[1] * scaled_X[1] + b\r\n",
        "    # once we get price prediction we need to to rescal it back to original value\r\n",
        "    # also since it returns 2D array, to get single value we need to do value[0][0]\r\n",
        "    return sy.inverse_transform([[scaled_price]])[0][0]\r\n",
        "\r\n",
        "predict(2600,4,w,b)"
      ],
      "execution_count": 9,
      "outputs": [
        {
          "output_type": "execute_result",
          "data": {
            "text/plain": [
              "128.45484403267596"
            ]
          },
          "metadata": {
            "tags": []
          },
          "execution_count": 9
        }
      ]
    },
    {
      "cell_type": "code",
      "metadata": {
        "id": "jIfo7ellGhsy"
      },
      "source": [
        "#Stochastic Gradient Descent Implementation"
      ],
      "execution_count": 10,
      "outputs": []
    },
    {
      "cell_type": "code",
      "metadata": {
        "colab": {
          "base_uri": "https://localhost:8080/"
        },
        "id": "QNYG4XnEGvR2",
        "outputId": "22b629c7-b745-4f48-d157-067d6713c2f1"
      },
      "source": [
        "import random\r\n",
        "random.randint(0,6)"
      ],
      "execution_count": 11,
      "outputs": [
        {
          "output_type": "execute_result",
          "data": {
            "text/plain": [
              "6"
            ]
          },
          "metadata": {
            "tags": []
          },
          "execution_count": 11
        }
      ]
    },
    {
      "cell_type": "code",
      "metadata": {
        "colab": {
          "base_uri": "https://localhost:8080/"
        },
        "id": "LgM3g5TTGy1-",
        "outputId": "a23d2d2a-62da-4faa-ee6f-4cb93e252eea"
      },
      "source": [
        "def stochastic_gradient_descent(X, y_true, epochs, learning_rate = 0.01):\r\n",
        " \r\n",
        "    number_of_features = X.shape[1]\r\n",
        "    # numpy array with 1 row and columns equal to number of features. In \r\n",
        "    # our case number_of_features = 3 (area, bedroom and age)\r\n",
        "    w = np.ones(shape=(number_of_features)) \r\n",
        "    b = 0\r\n",
        "    total_samples = X.shape[0]\r\n",
        "    \r\n",
        "    cost_list = []\r\n",
        "    epoch_list = []\r\n",
        "    \r\n",
        "    for i in range(epochs):    \r\n",
        "        random_index = random.randint(0,total_samples-1) # random index from total samples\r\n",
        "        sample_x = X[random_index]\r\n",
        "        sample_y = y_true[random_index]\r\n",
        "        \r\n",
        "        y_predicted = np.dot(w, sample_x.T) + b\r\n",
        "    \r\n",
        "        w_grad = -(2/total_samples)*(sample_x.T.dot(sample_y-y_predicted))\r\n",
        "        b_grad = -(2/total_samples)*(sample_y-y_predicted)\r\n",
        "        \r\n",
        "        w = w - learning_rate * w_grad\r\n",
        "        b = b - learning_rate * b_grad\r\n",
        "        \r\n",
        "        cost = np.square(sample_y-y_predicted)\r\n",
        "        \r\n",
        "        if i%100==0: # at every 100th iteration record the cost and epoch value\r\n",
        "            cost_list.append(cost)\r\n",
        "            epoch_list.append(i)\r\n",
        "        \r\n",
        "    return w, b, cost, cost_list, epoch_list\r\n",
        "\r\n",
        "w_sgd, b_sgd, cost_sgd, cost_list_sgd, epoch_list_sgd = stochastic_gradient_descent(scaled_X,scaled_y.reshape(scaled_y.shape[0],),10000)\r\n",
        "w_sgd, b_sgd, cost_sgd"
      ],
      "execution_count": 13,
      "outputs": [
        {
          "output_type": "execute_result",
          "data": {
            "text/plain": [
              "(array([0.70410039, 0.67214845]), -0.2267608857188045, 0.002988580943353922)"
            ]
          },
          "metadata": {
            "tags": []
          },
          "execution_count": 13
        }
      ]
    },
    {
      "cell_type": "code",
      "metadata": {
        "colab": {
          "base_uri": "https://localhost:8080/",
          "height": 297
        },
        "id": "sTcOCcWNHGOQ",
        "outputId": "c8d7e439-e041-4b92-c06f-17154bc482b4"
      },
      "source": [
        "plt.xlabel(\"epoch\")\r\n",
        "plt.ylabel(\"cost\")\r\n",
        "plt.plot(epoch_list_sgd,cost_list_sgd)"
      ],
      "execution_count": 14,
      "outputs": [
        {
          "output_type": "execute_result",
          "data": {
            "text/plain": [
              "[<matplotlib.lines.Line2D at 0x7fc878328470>]"
            ]
          },
          "metadata": {
            "tags": []
          },
          "execution_count": 14
        },
        {
          "output_type": "display_data",
          "data": {
            "image/png": "[encoded data removed]",
            "text/plain": [
              "<Figure size 432x288 with 1 Axes>"
            ]
          },
          "metadata": {
            "tags": [],
            "needs_background": "light"
          }
        }
      ]
    },
    {
      "cell_type": "code",
      "metadata": {
        "colab": {
          "base_uri": "https://localhost:8080/"
        },
        "id": "0xuQVwZTHhQc",
        "outputId": "d0e15725-9ffc-41fd-a1e2-ac34a16f742e"
      },
      "source": [
        "predict(2600,4,w_sgd, b_sgd)"
      ],
      "execution_count": 15,
      "outputs": [
        {
          "output_type": "execute_result",
          "data": {
            "text/plain": [
              "128.4410674179834"
            ]
          },
          "metadata": {
            "tags": []
          },
          "execution_count": 15
        }
      ]
    },
    {
      "cell_type": "code",
      "metadata": {
        "colab": {
          "base_uri": "https://localhost:8080/"
        },
        "id": "c7eOwu3VHmlW",
        "outputId": "35c5aff9-1a34-4add-d562-a0fb119ad380"
      },
      "source": [
        "def mini_batch_gradient_descent(X, y_true, epochs = 100, batch_size = 5, learning_rate = 0.01):\r\n",
        "    \r\n",
        "    number_of_features = X.shape[1]\r\n",
        "    # numpy array with 1 row and columns equal to number of features. In \r\n",
        "    # our case number_of_features = 3 (area, bedroom and age)\r\n",
        "    w = np.ones(shape=(number_of_features)) \r\n",
        "    b = 0\r\n",
        "    total_samples = X.shape[0] # number of rows in X\r\n",
        "    \r\n",
        "    if batch_size > total_samples: # In this case mini batch becomes same as batch gradient descent\r\n",
        "        batch_size = total_samples\r\n",
        "        \r\n",
        "    cost_list = []\r\n",
        "    epoch_list = []\r\n",
        "    \r\n",
        "    num_batches = int(total_samples/batch_size)\r\n",
        "    \r\n",
        "    for i in range(epochs):    \r\n",
        "        random_indices = np.random.permutation(total_samples)\r\n",
        "        X_tmp = X[random_indices]\r\n",
        "        y_tmp = y_true[random_indices]\r\n",
        "        \r\n",
        "        for j in range(0,total_samples,batch_size):\r\n",
        "            Xj = X_tmp[j:j+batch_size]\r\n",
        "            yj = y_tmp[j:j+batch_size]\r\n",
        "            y_predicted = np.dot(w, Xj.T) + b\r\n",
        "            \r\n",
        "            w_grad = -(2/len(Xj))*(Xj.T.dot(yj-y_predicted))\r\n",
        "            b_grad = -(2/len(Xj))*np.sum(yj-y_predicted)\r\n",
        "            \r\n",
        "            w = w - learning_rate * w_grad\r\n",
        "            b = b - learning_rate * b_grad\r\n",
        "                \r\n",
        "            cost = np.mean(np.square(yj-y_predicted)) # MSE (Mean Squared Error)\r\n",
        "        \r\n",
        "        if i%10==0:\r\n",
        "            cost_list.append(cost)\r\n",
        "            epoch_list.append(i)\r\n",
        "        \r\n",
        "    return w, b, cost, cost_list, epoch_list\r\n",
        "\r\n",
        "w, b, cost, cost_list, epoch_list = mini_batch_gradient_descent(\r\n",
        "    scaled_X,\r\n",
        "    scaled_y.reshape(scaled_y.shape[0],),\r\n",
        "    epochs = 120,\r\n",
        "    batch_size = 5\r\n",
        ")\r\n",
        "w, b, cost"
      ],
      "execution_count": 16,
      "outputs": [
        {
          "output_type": "execute_result",
          "data": {
            "text/plain": [
              "(array([0.71020516, 0.67831563]), -0.23337099581178136, 0.0020452726196800073)"
            ]
          },
          "metadata": {
            "tags": []
          },
          "execution_count": 16
        }
      ]
    },
    {
      "cell_type": "code",
      "metadata": {
        "colab": {
          "base_uri": "https://localhost:8080/",
          "height": 297
        },
        "id": "rp_bhpLCH8oa",
        "outputId": "22e310b4-9184-4564-f895-d57f9b36fcee"
      },
      "source": [
        "plt.xlabel(\"epoch\")\r\n",
        "plt.ylabel(\"cost\")\r\n",
        "plt.plot(epoch_list,cost_list)"
      ],
      "execution_count": 17,
      "outputs": [
        {
          "output_type": "execute_result",
          "data": {
            "text/plain": [
              "[<matplotlib.lines.Line2D at 0x7fc878303f28>]"
            ]
          },
          "metadata": {
            "tags": []
          },
          "execution_count": 17
        },
        {
          "output_type": "display_data",
          "data": {
            "image/png": "[encoded data removed]",
            "text/plain": [
              "<Figure size 432x288 with 1 Axes>"
            ]
          },
          "metadata": {
            "tags": [],
            "needs_background": "light"
          }
        }
      ]
    },
    {
      "cell_type": "code",
      "metadata": {
        "id": "3wOXoU8-IA2P",
        "outputId": "e12cf9c7-d538-4556-aaa1-9d68c77d91da",
        "colab": {
          "base_uri": "https://localhost:8080/"
        }
      },
      "source": [
        "\r\n",
        "predict(1000,2,w,b)"
      ],
      "execution_count": 18,
      "outputs": [
        {
          "output_type": "execute_result",
          "data": {
            "text/plain": [
              "30.00032292460934"
            ]
          },
          "metadata": {
            "tags": []
          },
          "execution_count": 18
        }
      ]
    },
    {
      "cell_type": "code",
      "metadata": {
        "id": "lNhdln2EIEaA"
      },
      "source": [
        ""
      ],
      "execution_count": null,
      "outputs": []
    }
  ]
}